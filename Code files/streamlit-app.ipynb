{
 "cells": [
  {
   "cell_type": "code",
   "execution_count": 3,
   "id": "97a36d89",
   "metadata": {},
   "outputs": [],
   "source": [
    "import streamlit as st\n",
    "import pickle "
   ]
  },
  {
   "cell_type": "code",
   "execution_count": 4,
   "id": "f219af15",
   "metadata": {},
   "outputs": [],
   "source": [
    "lg_model = pickle.load(open('lg_model.pkl' , 'rb'))\n",
    "log_model = pickle.load(open('log_model.pkl' , 'rb'))\n",
    "RFC_model = pickle.load(open('RFC_model.pkl' , 'rb'))\n",
    "SVM_model = pickle.load(open('SVM_model.pkl' , 'rb'))"
   ]
  },
  {
   "cell_type": "code",
   "execution_count": 5,
   "id": "827e9cd6",
   "metadata": {},
   "outputs": [],
   "source": [
    "def classification(num):\n",
    "    if num<0.5:\n",
    "        return 'Setosa'\n",
    "    elif num<1.5:\n",
    "        return 'Versicolor'\n",
    "    else:\n",
    "        return 'Virginica'"
   ]
  },
  {
   "cell_type": "code",
   "execution_count": 6,
   "id": "1813839e",
   "metadata": {},
   "outputs": [
    {
     "name": "stderr",
     "output_type": "stream",
     "text": [
      "2022-03-30 15:12:44.984 \n",
      "  \u001b[33m\u001b[1mWarning:\u001b[0m to view this Streamlit app on a browser, run it with the following\n",
      "  command:\n",
      "\n",
      "    streamlit run /home/alienware/B4ycode/lib/python3.8/site-packages/ipykernel_launcher.py [ARGUMENTS]\n"
     ]
    }
   ],
   "source": [
    "def main():\n",
    "    \n",
    "    st.title(\"Streamlit Implementation\")\n",
    "    html_temp = \"\"\"\n",
    "    <div style=\"background-color:teal ;padding:10px\">\n",
    "    <h2 style=\"color:white;text-align:center;\">Iris Classification</h2>\n",
    "    </div>\n",
    "    \"\"\"\n",
    "    st.markdown(html_temp, unsafe_allow_html=True)\n",
    "    activities=['Linear Regression','Logistic Regression','SVM', 'RFC']\n",
    "    option=st.sidebar.selectbox('Which model would you like to use?',activities)\n",
    "    st.subheader(option)\n",
    "    sl=st.slider('Select Sepal Length', 0.0, 10.0)\n",
    "    sw=st.slider('Select Sepal Width', 0.0, 10.0)\n",
    "    pl=st.slider('Select Petal Length', 0.0, 10.0)\n",
    "    pw=st.slider('Select Petal Width', 0.0, 10.0)\n",
    "    inputs=[[sl,sw,pl,pw]]\n",
    "    if st.button('Classification'):\n",
    "        if option=='Linear Regression':\n",
    "            st.success(classification(lg_model.predict(inputs)))\n",
    "        elif option=='Logistic Regression':\n",
    "            st.success(classification(log_model.predict(inputs)))\n",
    "        elif option=='Support Vectore Machine':\n",
    "            st.success(classification(SVM_model.predict(inputs)))\n",
    "        else:\n",
    "            st.success(classification(RFC_model.predict(inputs)))\n",
    "\n",
    "\n",
    "if __name__=='__main__':\n",
    "    main()"
   ]
  },
  {
   "cell_type": "code",
   "execution_count": null,
   "id": "37004d7e",
   "metadata": {},
   "outputs": [],
   "source": []
  }
 ],
 "metadata": {
  "kernelspec": {
   "display_name": "Python 3 (ipykernel)",
   "language": "python",
   "name": "python3"
  },
  "language_info": {
   "codemirror_mode": {
    "name": "ipython",
    "version": 3
   },
   "file_extension": ".py",
   "mimetype": "text/x-python",
   "name": "python",
   "nbconvert_exporter": "python",
   "pygments_lexer": "ipython3",
   "version": "3.8.10"
  }
 },
 "nbformat": 4,
 "nbformat_minor": 5
}
